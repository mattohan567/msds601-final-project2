{
 "cells": [
  {
   "cell_type": "code",
   "execution_count": 3,
   "metadata": {},
   "outputs": [],
   "source": [
    "import numpy as np\n",
    "import pandas as pd\n",
    "import statsmodels.api as sm\n",
    "import statsmodels.formula.api as smf\n",
    "import re\n",
    "import pickle\n",
    "from itertools import combinations\n",
    "import pandas as pd\n",
    "from sklearn.linear_model import LinearRegression\n",
    "from sklearn.feature_selection import RFE\n",
    "from sklearn.model_selection import train_test_split\n",
    "from sklearn.metrics import mean_squared_error"
   ]
  },
  {
   "cell_type": "code",
   "execution_count": 26,
   "metadata": {},
   "outputs": [],
   "source": [
    "df_results = pd.read_csv('all_results_df.csv')"
   ]
  },
  {
   "cell_type": "code",
   "execution_count": 17,
   "metadata": {},
   "outputs": [],
   "source": [
    "df = pd.read_csv(\"cleaned_car_price_prediction_door_fix.csv\")"
   ]
  },
  {
   "cell_type": "code",
   "execution_count": 18,
   "metadata": {},
   "outputs": [
    {
     "name": "stderr",
     "output_type": "stream",
     "text": [
      "<>:3: SyntaxWarning: invalid escape sequence '\\.'\n",
      "<>:3: SyntaxWarning: invalid escape sequence '\\.'\n",
      "/var/folders/d4/3_k3cjj111n8n_ybx72scyb40000gn/T/ipykernel_85631/3876706845.py:3: SyntaxWarning: invalid escape sequence '\\.'\n",
      "  df.columns = [re.sub('\\.', '', col) for col in df.columns]\n"
     ]
    },
    {
     "data": {
      "text/plain": [
       "Doors\n",
       "4     1913\n",
       "2       81\n",
       ">5       6\n",
       "Name: count, dtype: int64"
      ]
     },
     "execution_count": 18,
     "metadata": {},
     "output_type": "execute_result"
    }
   ],
   "source": [
    "df['HasTurbo'] = df['HasTurbo'].astype(int)\n",
    "df.columns = [re.sub(' ', '_', col) for col in df.columns]\n",
    "df.columns = [re.sub('\\.', '', col) for col in df.columns]\n",
    "x_cols = df.columns[1:]\n",
    "df = df.sample(n=2000, random_state=42) # select a subset\n",
    "df.head()\n",
    "df.Doors.value_counts()"
   ]
  },
  {
   "cell_type": "code",
   "execution_count": 19,
   "metadata": {},
   "outputs": [
    {
     "data": {
      "text/html": [
       "<div>\n",
       "<style scoped>\n",
       "    .dataframe tbody tr th:only-of-type {\n",
       "        vertical-align: middle;\n",
       "    }\n",
       "\n",
       "    .dataframe tbody tr th {\n",
       "        vertical-align: top;\n",
       "    }\n",
       "\n",
       "    .dataframe thead th {\n",
       "        text-align: right;\n",
       "    }\n",
       "</style>\n",
       "<table border=\"1\" class=\"dataframe\">\n",
       "  <thead>\n",
       "    <tr style=\"text-align: right;\">\n",
       "      <th></th>\n",
       "      <th>Price</th>\n",
       "      <th>Manufacturer</th>\n",
       "      <th>Prod_year</th>\n",
       "      <th>Category</th>\n",
       "      <th>Leather_interior</th>\n",
       "      <th>Fuel_type</th>\n",
       "      <th>Engine_Volume</th>\n",
       "      <th>HasTurbo</th>\n",
       "      <th>Mileage</th>\n",
       "      <th>Cylinders</th>\n",
       "      <th>Gear_box_type</th>\n",
       "      <th>Drive_wheels</th>\n",
       "      <th>Doors</th>\n",
       "      <th>Wheel</th>\n",
       "      <th>Color</th>\n",
       "      <th>Airbags</th>\n",
       "    </tr>\n",
       "  </thead>\n",
       "  <tbody>\n",
       "    <tr>\n",
       "      <th>736</th>\n",
       "      <td>27284</td>\n",
       "      <td>CHEVROLET</td>\n",
       "      <td>2014</td>\n",
       "      <td>Hatchback</td>\n",
       "      <td>No</td>\n",
       "      <td>Plug-in Hybrid</td>\n",
       "      <td>1.4</td>\n",
       "      <td>0</td>\n",
       "      <td>65000</td>\n",
       "      <td>4.0</td>\n",
       "      <td>Automatic</td>\n",
       "      <td>Front</td>\n",
       "      <td>4</td>\n",
       "      <td>Left wheel</td>\n",
       "      <td>Silver</td>\n",
       "      <td>10</td>\n",
       "    </tr>\n",
       "    <tr>\n",
       "      <th>8674</th>\n",
       "      <td>10349</td>\n",
       "      <td>MERCEDES-BENZ</td>\n",
       "      <td>1997</td>\n",
       "      <td>Microbus</td>\n",
       "      <td>Yes</td>\n",
       "      <td>Diesel</td>\n",
       "      <td>2.9</td>\n",
       "      <td>1</td>\n",
       "      <td>3333</td>\n",
       "      <td>6.0</td>\n",
       "      <td>Manual</td>\n",
       "      <td>Rear</td>\n",
       "      <td>2</td>\n",
       "      <td>Left wheel</td>\n",
       "      <td>Red</td>\n",
       "      <td>2</td>\n",
       "    </tr>\n",
       "    <tr>\n",
       "      <th>5971</th>\n",
       "      <td>40769</td>\n",
       "      <td>MERCEDES-BENZ</td>\n",
       "      <td>1996</td>\n",
       "      <td>Sedan</td>\n",
       "      <td>No</td>\n",
       "      <td>Petrol</td>\n",
       "      <td>1.8</td>\n",
       "      <td>0</td>\n",
       "      <td>212485</td>\n",
       "      <td>8.0</td>\n",
       "      <td>Manual</td>\n",
       "      <td>Rear</td>\n",
       "      <td>4</td>\n",
       "      <td>Left wheel</td>\n",
       "      <td>Green</td>\n",
       "      <td>2</td>\n",
       "    </tr>\n",
       "    <tr>\n",
       "      <th>1957</th>\n",
       "      <td>38737</td>\n",
       "      <td>HYUNDAI</td>\n",
       "      <td>2014</td>\n",
       "      <td>Jeep</td>\n",
       "      <td>Yes</td>\n",
       "      <td>Diesel</td>\n",
       "      <td>2.0</td>\n",
       "      <td>0</td>\n",
       "      <td>132756</td>\n",
       "      <td>4.0</td>\n",
       "      <td>Automatic</td>\n",
       "      <td>Front</td>\n",
       "      <td>4</td>\n",
       "      <td>Left wheel</td>\n",
       "      <td>Grey</td>\n",
       "      <td>4</td>\n",
       "    </tr>\n",
       "    <tr>\n",
       "      <th>11075</th>\n",
       "      <td>42102</td>\n",
       "      <td>SSANGYONG</td>\n",
       "      <td>2017</td>\n",
       "      <td>Jeep</td>\n",
       "      <td>Yes</td>\n",
       "      <td>Petrol</td>\n",
       "      <td>1.6</td>\n",
       "      <td>0</td>\n",
       "      <td>50750</td>\n",
       "      <td>4.0</td>\n",
       "      <td>Automatic</td>\n",
       "      <td>Front</td>\n",
       "      <td>4</td>\n",
       "      <td>Left wheel</td>\n",
       "      <td>White</td>\n",
       "      <td>4</td>\n",
       "    </tr>\n",
       "  </tbody>\n",
       "</table>\n",
       "</div>"
      ],
      "text/plain": [
       "       Price   Manufacturer  Prod_year   Category Leather_interior  \\\n",
       "736    27284      CHEVROLET       2014  Hatchback               No   \n",
       "8674   10349  MERCEDES-BENZ       1997   Microbus              Yes   \n",
       "5971   40769  MERCEDES-BENZ       1996      Sedan               No   \n",
       "1957   38737        HYUNDAI       2014       Jeep              Yes   \n",
       "11075  42102      SSANGYONG       2017       Jeep              Yes   \n",
       "\n",
       "            Fuel_type  Engine_Volume  HasTurbo  Mileage  Cylinders  \\\n",
       "736    Plug-in Hybrid            1.4         0    65000        4.0   \n",
       "8674           Diesel            2.9         1     3333        6.0   \n",
       "5971           Petrol            1.8         0   212485        8.0   \n",
       "1957           Diesel            2.0         0   132756        4.0   \n",
       "11075          Petrol            1.6         0    50750        4.0   \n",
       "\n",
       "      Gear_box_type Drive_wheels Doors       Wheel   Color  Airbags  \n",
       "736       Automatic        Front     4  Left wheel  Silver       10  \n",
       "8674         Manual         Rear     2  Left wheel     Red        2  \n",
       "5971         Manual         Rear     4  Left wheel   Green        2  \n",
       "1957      Automatic        Front     4  Left wheel    Grey        4  \n",
       "11075     Automatic        Front     4  Left wheel   White        4  "
      ]
     },
     "execution_count": 19,
     "metadata": {},
     "output_type": "execute_result"
    }
   ],
   "source": [
    "df.head()"
   ]
  },
  {
   "cell_type": "markdown",
   "metadata": {},
   "source": [
    "0   Price             2000 non-null   int64  \n",
    " 1   Manufacturer      2000 non-null   object \n",
    " 2   Prod_year         2000 non-null   int64  \n",
    " 3   Category          2000 non-null   object \n",
    " 4   Leather_interior  2000 non-null   object \n",
    " 5   Fuel_type         2000 non-null   object \n",
    " 6   Engine_Volume     2000 non-null   float64\n",
    " 7   HasTurbo          2000 non-null   int64  \n",
    " 8   Mileage           2000 non-null   int64  \n",
    " 9   Cylinders         2000 non-null   float64\n",
    " 10  Gear_box_type     2000 non-null   object \n",
    " 11  Drive_wheels      2000 non-null   object \n",
    " 12  Doors             2000 non-null   object \n",
    " 13  Wheel             2000 non-null   object \n",
    " 14  Color             2000 non-null   object \n",
    " 15  Airbags           2000 non-null   int64 "
   ]
  },
  {
   "cell_type": "code",
   "execution_count": 23,
   "metadata": {},
   "outputs": [],
   "source": [
    "cv_model_regress_string = \"Price ~ C(Manufacturer) + Prod_year + C(Category) + C(Fuel_type) + C(HasTurbo) + Cylinders + C(Gear_box_type) + C(Drive_wheels) + C(Wheel) + Airbags\""
   ]
  },
  {
   "cell_type": "code",
   "execution_count": 41,
   "metadata": {},
   "outputs": [],
   "source": [
    "cv_model = smf.ols(cv_model_regress_string, data = df).fit()"
   ]
  },
  {
   "cell_type": "code",
   "execution_count": 42,
   "metadata": {},
   "outputs": [
    {
     "data": {
      "text/plain": [
       "Intercept                      -2.999863e+06\n",
       "C(Manufacturer)[T.AUDI]         3.045043e+03\n",
       "C(Manufacturer)[T.BMW]          1.224378e+04\n",
       "C(Manufacturer)[T.BUICK]       -2.878595e+02\n",
       "C(Manufacturer)[T.CADILLAC]     7.504806e+03\n",
       "                                    ...     \n",
       "C(Drive_wheels)[T.Rear]         2.470202e+03\n",
       "C(Wheel)[T.Right-hand drive]   -1.087654e+03\n",
       "Prod_year                       1.497024e+03\n",
       "Cylinders                       2.033034e+03\n",
       "Airbags                        -8.523103e+02\n",
       "Length: 70, dtype: float64"
      ]
     },
     "execution_count": 42,
     "metadata": {},
     "output_type": "execute_result"
    }
   ],
   "source": [
    "cv_model.params"
   ]
  },
  {
   "cell_type": "code",
   "execution_count": 43,
   "metadata": {},
   "outputs": [],
   "source": [
    "aic_model_preds = df_results.iloc[28221]"
   ]
  },
  {
   "cell_type": "code",
   "execution_count": 39,
   "metadata": {},
   "outputs": [
    {
     "data": {
      "text/plain": [
       "\"['Manufacturer', 'Prod_year', 'Category', 'Fuel_type', 'Engine_Volume', 'HasTurbo', 'Cylinders', 'Gear_box_type', 'Drive_wheels', 'Airbags']\""
      ]
     },
     "execution_count": 39,
     "metadata": {},
     "output_type": "execute_result"
    }
   ],
   "source": [
    "aic_model_preds['Predictors']"
   ]
  },
  {
   "cell_type": "code",
   "execution_count": 44,
   "metadata": {},
   "outputs": [],
   "source": [
    "aic_model_string = \"Price ~ C(Manufacturer) + Prod_year + C(Category) + C(Fuel_type) + Engine_Volume + C(HasTurbo) + Cylinders + C(Gear_box_type) + C(Drive_wheels) + Airbags\""
   ]
  },
  {
   "cell_type": "code",
   "execution_count": 45,
   "metadata": {},
   "outputs": [],
   "source": [
    "aic_model = smf.ols(aic_model_string, data = df).fit()"
   ]
  },
  {
   "cell_type": "code",
   "execution_count": 49,
   "metadata": {},
   "outputs": [
    {
     "data": {
      "text/plain": [
       "Intercept                     -3.034394e+06\n",
       "C(Manufacturer)[T.AUDI]        3.756034e+03\n",
       "C(Manufacturer)[T.BMW]         1.310446e+04\n",
       "C(Manufacturer)[T.BUICK]       1.145679e+03\n",
       "C(Manufacturer)[T.CADILLAC]    7.885624e+03\n",
       "                                   ...     \n",
       "C(Drive_wheels)[T.Rear]        2.747306e+03\n",
       "Prod_year                      1.512949e+03\n",
       "Engine_Volume                  1.700510e+03\n",
       "Cylinders                      1.296979e+03\n",
       "Airbags                       -8.778789e+02\n",
       "Length: 70, dtype: float64"
      ]
     },
     "execution_count": 49,
     "metadata": {},
     "output_type": "execute_result"
    }
   ],
   "source": [
    "aic_model.params"
   ]
  },
  {
   "cell_type": "code",
   "execution_count": 50,
   "metadata": {},
   "outputs": [],
   "source": [
    "bic_model_preds = df_results.loc[7694]"
   ]
  },
  {
   "cell_type": "code",
   "execution_count": 52,
   "metadata": {},
   "outputs": [
    {
     "data": {
      "text/plain": [
       "\"['Prod_year', 'Fuel_type', 'Engine_Volume', 'HasTurbo', 'Gear_box_type', 'Airbags']\""
      ]
     },
     "execution_count": 52,
     "metadata": {},
     "output_type": "execute_result"
    }
   ],
   "source": [
    "bic_model_preds['Predictors']"
   ]
  },
  {
   "cell_type": "code",
   "execution_count": 55,
   "metadata": {},
   "outputs": [],
   "source": [
    "bic_model_string = \"Price ~ Prod_year + C(Fuel_type) + Engine_Volume + C(HasTurbo) +  C(Gear_box_type) + Airbags\""
   ]
  },
  {
   "cell_type": "code",
   "execution_count": 56,
   "metadata": {},
   "outputs": [],
   "source": [
    "bic_model = smf.ols(bic_model_string, data = df).fit()"
   ]
  },
  {
   "cell_type": "code",
   "execution_count": 57,
   "metadata": {},
   "outputs": [
    {
     "data": {
      "text/plain": [
       "Intercept                        -2.725383e+06\n",
       "C(Fuel_type)[T.Diesel]            2.358172e+03\n",
       "C(Fuel_type)[T.Hybrid]           -8.030168e+03\n",
       "C(Fuel_type)[T.LPG]              -7.495083e+03\n",
       "C(Fuel_type)[T.Petrol]           -4.127678e+03\n",
       "C(Fuel_type)[T.Plug-in Hybrid]    2.597030e+03\n",
       "C(HasTurbo)[T.1]                  7.469564e+03\n",
       "C(Gear_box_type)[T.Manual]        5.468235e+03\n",
       "C(Gear_box_type)[T.Tiptronic]     1.138413e+04\n",
       "C(Gear_box_type)[T.Variator]      6.809069e+03\n",
       "Prod_year                         1.363534e+03\n",
       "Engine_Volume                     2.881329e+03\n",
       "Airbags                          -8.528417e+02\n",
       "dtype: float64"
      ]
     },
     "execution_count": 57,
     "metadata": {},
     "output_type": "execute_result"
    }
   ],
   "source": [
    "bic_model.params"
   ]
  },
  {
   "cell_type": "code",
   "execution_count": 58,
   "metadata": {},
   "outputs": [],
   "source": [
    "r2a_model_preds = df_results.iloc[28221]"
   ]
  },
  {
   "cell_type": "code",
   "execution_count": 60,
   "metadata": {},
   "outputs": [
    {
     "data": {
      "text/plain": [
       "\"['Manufacturer', 'Prod_year', 'Category', 'Fuel_type', 'Engine_Volume', 'HasTurbo', 'Cylinders', 'Gear_box_type', 'Drive_wheels', 'Airbags']\""
      ]
     },
     "execution_count": 60,
     "metadata": {},
     "output_type": "execute_result"
    }
   ],
   "source": [
    "r2a_model_preds[\"Predictors\"]"
   ]
  },
  {
   "cell_type": "code",
   "execution_count": 61,
   "metadata": {},
   "outputs": [],
   "source": [
    "r2a_model_string = \"Price ~ C(Manufacturer) + Prod_year + C(Category) + C(Fuel_type) + Engine_Volume + C(HasTurbo) + Cylinders + C(Gear_box_type) + C(Drive_wheels) + Airbags\""
   ]
  },
  {
   "cell_type": "code",
   "execution_count": 62,
   "metadata": {},
   "outputs": [],
   "source": [
    "r2a_model = smf.ols(r2a_model_string, data = df).fit()"
   ]
  },
  {
   "cell_type": "code",
   "execution_count": 63,
   "metadata": {},
   "outputs": [
    {
     "data": {
      "text/plain": [
       "Intercept                     -3.034394e+06\n",
       "C(Manufacturer)[T.AUDI]        3.756034e+03\n",
       "C(Manufacturer)[T.BMW]         1.310446e+04\n",
       "C(Manufacturer)[T.BUICK]       1.145679e+03\n",
       "C(Manufacturer)[T.CADILLAC]    7.885624e+03\n",
       "                                   ...     \n",
       "C(Drive_wheels)[T.Rear]        2.747306e+03\n",
       "Prod_year                      1.512949e+03\n",
       "Engine_Volume                  1.700510e+03\n",
       "Cylinders                      1.296979e+03\n",
       "Airbags                       -8.778789e+02\n",
       "Length: 70, dtype: float64"
      ]
     },
     "execution_count": 63,
     "metadata": {},
     "output_type": "execute_result"
    }
   ],
   "source": [
    "r2a_model.params"
   ]
  },
  {
   "cell_type": "code",
   "execution_count": 64,
   "metadata": {},
   "outputs": [],
   "source": [
    "press_model_preds = df_results.iloc[28914]"
   ]
  },
  {
   "cell_type": "code",
   "execution_count": 65,
   "metadata": {},
   "outputs": [
    {
     "data": {
      "text/plain": [
       "\"['Manufacturer', 'Prod_year', 'Leather_interior', 'HasTurbo', 'Cylinders', 'Gear_box_type', 'Doors', 'Wheel', 'Color', 'Airbags']\""
      ]
     },
     "execution_count": 65,
     "metadata": {},
     "output_type": "execute_result"
    }
   ],
   "source": [
    "press_model_preds['Predictors']"
   ]
  },
  {
   "cell_type": "code",
   "execution_count": 66,
   "metadata": {},
   "outputs": [],
   "source": [
    "press_model_string = \"Price ~ C(Manufacturer) + Prod_year + C(Leather_interior) + C(HasTurbo) + Cylinders + C(Gear_box_type) + C(Doors) + C(Wheel) + C(Color) + Airbags\""
   ]
  },
  {
   "cell_type": "code",
   "execution_count": 67,
   "metadata": {},
   "outputs": [],
   "source": [
    "press_model = smf.ols(press_model_string, data = df).fit()"
   ]
  },
  {
   "cell_type": "code",
   "execution_count": 68,
   "metadata": {},
   "outputs": [
    {
     "data": {
      "text/plain": [
       "Intercept                     -3.048711e+06\n",
       "C(Manufacturer)[T.AUDI]       -3.016432e+03\n",
       "C(Manufacturer)[T.BMW]         8.802297e+03\n",
       "C(Manufacturer)[T.BUICK]      -2.612100e+02\n",
       "C(Manufacturer)[T.CADILLAC]    2.329693e+03\n",
       "                                   ...     \n",
       "C(Color)[T.White]             -7.373351e+02\n",
       "C(Color)[T.Yellow]             3.922410e+02\n",
       "Prod_year                      1.517101e+03\n",
       "Cylinders                      2.140865e+03\n",
       "Airbags                       -9.927196e+02\n",
       "Length: 72, dtype: float64"
      ]
     },
     "execution_count": 68,
     "metadata": {},
     "output_type": "execute_result"
    }
   ],
   "source": [
    "press_model.params"
   ]
  },
  {
   "cell_type": "code",
   "execution_count": 69,
   "metadata": {},
   "outputs": [],
   "source": [
    "dict_model_params = {'press' : press_model.params, 'r2a' : r2a_model.params, 'bic' : bic_model.params, 'aic' : aic_model.params, 'cv' : cv_model.params}"
   ]
  },
  {
   "cell_type": "code",
   "execution_count": 70,
   "metadata": {},
   "outputs": [
    {
     "data": {
      "text/plain": [
       "{'press': Intercept                     -3.048711e+06\n",
       " C(Manufacturer)[T.AUDI]       -3.016432e+03\n",
       " C(Manufacturer)[T.BMW]         8.802297e+03\n",
       " C(Manufacturer)[T.BUICK]      -2.612100e+02\n",
       " C(Manufacturer)[T.CADILLAC]    2.329693e+03\n",
       "                                    ...     \n",
       " C(Color)[T.White]             -7.373351e+02\n",
       " C(Color)[T.Yellow]             3.922410e+02\n",
       " Prod_year                      1.517101e+03\n",
       " Cylinders                      2.140865e+03\n",
       " Airbags                       -9.927196e+02\n",
       " Length: 72, dtype: float64,\n",
       " 'r2a': Intercept                     -3.034394e+06\n",
       " C(Manufacturer)[T.AUDI]        3.756034e+03\n",
       " C(Manufacturer)[T.BMW]         1.310446e+04\n",
       " C(Manufacturer)[T.BUICK]       1.145679e+03\n",
       " C(Manufacturer)[T.CADILLAC]    7.885624e+03\n",
       "                                    ...     \n",
       " C(Drive_wheels)[T.Rear]        2.747306e+03\n",
       " Prod_year                      1.512949e+03\n",
       " Engine_Volume                  1.700510e+03\n",
       " Cylinders                      1.296979e+03\n",
       " Airbags                       -8.778789e+02\n",
       " Length: 70, dtype: float64,\n",
       " 'bic': Intercept                        -2.725383e+06\n",
       " C(Fuel_type)[T.Diesel]            2.358172e+03\n",
       " C(Fuel_type)[T.Hybrid]           -8.030168e+03\n",
       " C(Fuel_type)[T.LPG]              -7.495083e+03\n",
       " C(Fuel_type)[T.Petrol]           -4.127678e+03\n",
       " C(Fuel_type)[T.Plug-in Hybrid]    2.597030e+03\n",
       " C(HasTurbo)[T.1]                  7.469564e+03\n",
       " C(Gear_box_type)[T.Manual]        5.468235e+03\n",
       " C(Gear_box_type)[T.Tiptronic]     1.138413e+04\n",
       " C(Gear_box_type)[T.Variator]      6.809069e+03\n",
       " Prod_year                         1.363534e+03\n",
       " Engine_Volume                     2.881329e+03\n",
       " Airbags                          -8.528417e+02\n",
       " dtype: float64,\n",
       " 'aic': Intercept                     -3.034394e+06\n",
       " C(Manufacturer)[T.AUDI]        3.756034e+03\n",
       " C(Manufacturer)[T.BMW]         1.310446e+04\n",
       " C(Manufacturer)[T.BUICK]       1.145679e+03\n",
       " C(Manufacturer)[T.CADILLAC]    7.885624e+03\n",
       "                                    ...     \n",
       " C(Drive_wheels)[T.Rear]        2.747306e+03\n",
       " Prod_year                      1.512949e+03\n",
       " Engine_Volume                  1.700510e+03\n",
       " Cylinders                      1.296979e+03\n",
       " Airbags                       -8.778789e+02\n",
       " Length: 70, dtype: float64,\n",
       " 'cv': Intercept                      -2.999863e+06\n",
       " C(Manufacturer)[T.AUDI]         3.045043e+03\n",
       " C(Manufacturer)[T.BMW]          1.224378e+04\n",
       " C(Manufacturer)[T.BUICK]       -2.878595e+02\n",
       " C(Manufacturer)[T.CADILLAC]     7.504806e+03\n",
       "                                     ...     \n",
       " C(Drive_wheels)[T.Rear]         2.470202e+03\n",
       " C(Wheel)[T.Right-hand drive]   -1.087654e+03\n",
       " Prod_year                       1.497024e+03\n",
       " Cylinders                       2.033034e+03\n",
       " Airbags                        -8.523103e+02\n",
       " Length: 70, dtype: float64}"
      ]
     },
     "execution_count": 70,
     "metadata": {},
     "output_type": "execute_result"
    }
   ],
   "source": [
    "dict_model_params"
   ]
  },
  {
   "cell_type": "code",
   "execution_count": 73,
   "metadata": {},
   "outputs": [],
   "source": [
    "for k,v in dict_model_params.items():\n",
    "    \n",
    "    v.to_csv(f'{k}.csv', index=True)"
   ]
  },
  {
   "cell_type": "code",
   "execution_count": null,
   "metadata": {},
   "outputs": [],
   "source": []
  }
 ],
 "metadata": {
  "kernelspec": {
   "display_name": "virtual-env",
   "language": "python",
   "name": "python3"
  },
  "language_info": {
   "codemirror_mode": {
    "name": "ipython",
    "version": 3
   },
   "file_extension": ".py",
   "mimetype": "text/x-python",
   "name": "python",
   "nbconvert_exporter": "python",
   "pygments_lexer": "ipython3",
   "version": "3.12.5"
  }
 },
 "nbformat": 4,
 "nbformat_minor": 2
}
